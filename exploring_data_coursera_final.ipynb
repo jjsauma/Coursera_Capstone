{
  "nbformat": 4,
  "nbformat_minor": 0,
  "metadata": {
    "colab": {
      "name": "exploring_data_coursera_final.ipynb",
      "provenance": [],
      "authorship_tag": "ABX9TyMDgTJ5mkEOTaP11bNIzkXq",
      "include_colab_link": true
    },
    "kernelspec": {
      "name": "python3",
      "display_name": "Python 3"
    }
  },
  "cells": [
    {
      "cell_type": "markdown",
      "metadata": {
        "id": "view-in-github",
        "colab_type": "text"
      },
      "source": [
        "<a href=\"https://colab.research.google.com/github/jjsauma/Coursera_Capstone/blob/master/exploring_data_coursera_final.ipynb\" target=\"_parent\"><img src=\"https://colab.research.google.com/assets/colab-badge.svg\" alt=\"Open In Colab\"/></a>"
      ]
    },
    {
      "cell_type": "markdown",
      "metadata": {
        "id": "dtBDjnQngUHQ"
      },
      "source": [
        "# **Car accident severity prediction for insurance companies**\n",
        "*Joaquín Jiménez-Sauma*\n",
        "\n",
        "## **Introduction / Business Problem**\n",
        "\n",
        "Predicting the cost, and hence the severity, of claims in an insurance company is a real-life problem that needs to be solved in a more accurate and automated way. Although it is generally considered a smart decision for the car owners to hire a car accident attorney following a crash, in minor collisions, owners can save on lawyer fees by handling the insurance claim themselves. This task makes the insurance companies engage in ample research beforehand by consulting resources and requesting a consultation on how to predict the severity of an accident and in turn the damage that needs to be covered. The overall paper-based process to calculate the severity claim is a tedious task to be completed. This is why insurance companies are continually seeking fresh ideas to improve their claims service for their clients in an automated way. Therefore, predictive analytics is a viable solution to predicting the cost, and hence severity, of claims on the available and historical data.\n",
        "In this research, we would like to predict the severity of a car accident based on non-human and external factors involving the accident such as Temperature,\tWind Chill,\tHumidity,\tPressure,\tVisibility,\tWind_Speed and\tPrecipitation, in general, weather conditions.\n",
        "\n",
        "We want to predict the severity code. This code is interpreted as a number between 1 and 4, where 1 indicates the least impact on traffic. \n",
        "\n",
        "## **Background**\n",
        "\n",
        "Insurance companies use a variety of methods to calculate the value of the claim, many of which are different forms of the multiplier method. Unlike lawyers, however, insurance companies rarely use whole numbers as multipliers and instead utilize complex computer algorithms to determine the multiplier. \n",
        "\n",
        "Generally, there are two reasons people criticize the multiplier method. One criticism is focused on the argument of arbitrary multipliers, meaning that due to the fact that different attorneys use different multipliers, the results are often inconsistent. For example, one attorney may triple the special damages, while another might apply a multiplier of six, opening up a wide gap of variance between the two estimated sums. Additionally, the multiplier method can produce misleading results. The multiplier method can fail to account for more long-term costs and immaterial damage that will affect someone for the rest of their life.\n"
      ]
    },
    {
      "cell_type": "code",
      "metadata": {
        "id": "JSKNAPlr07v3",
        "outputId": "e3dd23d5-77d9-4a1c-b459-652080dee48d",
        "colab": {
          "base_uri": "https://localhost:8080/",
          "height": 34
        }
      },
      "source": [
        "# Imports\n",
        "\n",
        "from string import ascii_letters\n",
        "import numpy as np\n",
        "import pandas as pd\n",
        "import matplotlib.pyplot as plt\n",
        "\n",
        "# setting up google drive\n",
        "from google.colab import drive\n",
        "drive.mount('/gdrive')"
      ],
      "execution_count": 1,
      "outputs": [
        {
          "output_type": "stream",
          "text": [
            "Drive already mounted at /gdrive; to attempt to forcibly remount, call drive.mount(\"/gdrive\", force_remount=True).\n"
          ],
          "name": "stdout"
        }
      ]
    },
    {
      "cell_type": "markdown",
      "metadata": {
        "id": "di2zTKuIg5wE"
      },
      "source": [
        "# **Read data**\n",
        "\n",
        "This is a United States car accident dataset, which covers 49 states. The accident data are collected from February 2016 to June 2020, using two APIs that provide streaming traffic incident (or event) data. These APIs broadcast traffic data captured by a variety of entities, such as the US and state departments of transportation, law enforcement agencies, traffic cameras, and traffic sensors within the road-networks. There are about 3.5 million accident records in this dataset. \n",
        "\n",
        "Source: https://www.kaggle.com/sobhanmoosavi/us-accidents"
      ]
    },
    {
      "cell_type": "code",
      "metadata": {
        "id": "4JaDAJiIwekV"
      },
      "source": [
        "# this dataset covers 49 states in the us from 2016 to 2020\n",
        "\n",
        "df = pd.read_csv(\"/gdrive/My Drive/colab_notebooks/capstone/data/US_Accidents_June20.csv\")"
      ],
      "execution_count": 2,
      "outputs": []
    },
    {
      "cell_type": "markdown",
      "metadata": {
        "id": "IgFomWishOoK"
      },
      "source": [
        "# **Exploratory Analysis**\n",
        "\n",
        "In order to know the dataset better we will perform some preliminary analysis."
      ]
    },
    {
      "cell_type": "code",
      "metadata": {
        "id": "sZlIjwKU3QfI"
      },
      "source": [
        "# Select the attributes we are going to use for our model\n",
        "\n",
        "df = df[['Severity', 'Temperature(F)', 'Wind_Chill(F)', 'Humidity(%)', 'Pressure(in)', 'Visibility(mi)', 'Wind_Speed(mph)','Precipitation(in)']]"
      ],
      "execution_count": 3,
      "outputs": []
    },
    {
      "cell_type": "code",
      "metadata": {
        "id": "pmAbE2T5wCH_",
        "outputId": "f2f897da-cbcb-429f-9163-8e9bbd0f878a",
        "colab": {
          "base_uri": "https://localhost:8080/",
          "height": 34
        }
      },
      "source": [
        "# shape (rows, columns)\n",
        "# this is how big it is...\n",
        "\n",
        "df.shape"
      ],
      "execution_count": 4,
      "outputs": [
        {
          "output_type": "execute_result",
          "data": {
            "text/plain": [
              "(3513617, 8)"
            ]
          },
          "metadata": {
            "tags": []
          },
          "execution_count": 4
        }
      ]
    },
    {
      "cell_type": "code",
      "metadata": {
        "id": "VFxKHz1F0eDk",
        "outputId": "24f91cc4-f437-4d02-9002-ba97c8262959",
        "colab": {
          "base_uri": "https://localhost:8080/",
          "height": 272
        }
      },
      "source": [
        "# reading dataset general information\n",
        "df.info()"
      ],
      "execution_count": 5,
      "outputs": [
        {
          "output_type": "stream",
          "text": [
            "<class 'pandas.core.frame.DataFrame'>\n",
            "RangeIndex: 3513617 entries, 0 to 3513616\n",
            "Data columns (total 8 columns):\n",
            " #   Column             Dtype  \n",
            "---  ------             -----  \n",
            " 0   Severity           int64  \n",
            " 1   Temperature(F)     float64\n",
            " 2   Wind_Chill(F)      float64\n",
            " 3   Humidity(%)        float64\n",
            " 4   Pressure(in)       float64\n",
            " 5   Visibility(mi)     float64\n",
            " 6   Wind_Speed(mph)    float64\n",
            " 7   Precipitation(in)  float64\n",
            "dtypes: float64(7), int64(1)\n",
            "memory usage: 214.5 MB\n"
          ],
          "name": "stdout"
        }
      ]
    },
    {
      "cell_type": "code",
      "metadata": {
        "id": "fJmJGP670sg2",
        "outputId": "443370ed-da7a-4ccb-ab28-8c4771bef3a0",
        "colab": {
          "base_uri": "https://localhost:8080/",
          "height": 317
        }
      },
      "source": [
        "df.describe()"
      ],
      "execution_count": 6,
      "outputs": [
        {
          "output_type": "execute_result",
          "data": {
            "text/html": [
              "<div>\n",
              "<style scoped>\n",
              "    .dataframe tbody tr th:only-of-type {\n",
              "        vertical-align: middle;\n",
              "    }\n",
              "\n",
              "    .dataframe tbody tr th {\n",
              "        vertical-align: top;\n",
              "    }\n",
              "\n",
              "    .dataframe thead th {\n",
              "        text-align: right;\n",
              "    }\n",
              "</style>\n",
              "<table border=\"1\" class=\"dataframe\">\n",
              "  <thead>\n",
              "    <tr style=\"text-align: right;\">\n",
              "      <th></th>\n",
              "      <th>Severity</th>\n",
              "      <th>Temperature(F)</th>\n",
              "      <th>Wind_Chill(F)</th>\n",
              "      <th>Humidity(%)</th>\n",
              "      <th>Pressure(in)</th>\n",
              "      <th>Visibility(mi)</th>\n",
              "      <th>Wind_Speed(mph)</th>\n",
              "      <th>Precipitation(in)</th>\n",
              "    </tr>\n",
              "  </thead>\n",
              "  <tbody>\n",
              "    <tr>\n",
              "      <th>count</th>\n",
              "      <td>3.513617e+06</td>\n",
              "      <td>3.447885e+06</td>\n",
              "      <td>1.645368e+06</td>\n",
              "      <td>3.443930e+06</td>\n",
              "      <td>3.457735e+06</td>\n",
              "      <td>3.437761e+06</td>\n",
              "      <td>3.059008e+06</td>\n",
              "      <td>1.487743e+06</td>\n",
              "    </tr>\n",
              "    <tr>\n",
              "      <th>mean</th>\n",
              "      <td>2.339929e+00</td>\n",
              "      <td>6.193512e+01</td>\n",
              "      <td>5.355730e+01</td>\n",
              "      <td>6.511427e+01</td>\n",
              "      <td>2.974463e+01</td>\n",
              "      <td>9.122644e+00</td>\n",
              "      <td>8.219025e+00</td>\n",
              "      <td>1.598256e-02</td>\n",
              "    </tr>\n",
              "    <tr>\n",
              "      <th>std</th>\n",
              "      <td>5.521935e-01</td>\n",
              "      <td>1.862106e+01</td>\n",
              "      <td>2.377334e+01</td>\n",
              "      <td>2.275558e+01</td>\n",
              "      <td>8.319758e-01</td>\n",
              "      <td>2.885879e+00</td>\n",
              "      <td>5.262847e+00</td>\n",
              "      <td>1.928262e-01</td>\n",
              "    </tr>\n",
              "    <tr>\n",
              "      <th>min</th>\n",
              "      <td>1.000000e+00</td>\n",
              "      <td>-8.900000e+01</td>\n",
              "      <td>-8.900000e+01</td>\n",
              "      <td>1.000000e+00</td>\n",
              "      <td>0.000000e+00</td>\n",
              "      <td>0.000000e+00</td>\n",
              "      <td>0.000000e+00</td>\n",
              "      <td>0.000000e+00</td>\n",
              "    </tr>\n",
              "    <tr>\n",
              "      <th>25%</th>\n",
              "      <td>2.000000e+00</td>\n",
              "      <td>5.000000e+01</td>\n",
              "      <td>3.570000e+01</td>\n",
              "      <td>4.800000e+01</td>\n",
              "      <td>2.973000e+01</td>\n",
              "      <td>1.000000e+01</td>\n",
              "      <td>5.000000e+00</td>\n",
              "      <td>0.000000e+00</td>\n",
              "    </tr>\n",
              "    <tr>\n",
              "      <th>50%</th>\n",
              "      <td>2.000000e+00</td>\n",
              "      <td>6.400000e+01</td>\n",
              "      <td>5.700000e+01</td>\n",
              "      <td>6.700000e+01</td>\n",
              "      <td>2.995000e+01</td>\n",
              "      <td>1.000000e+01</td>\n",
              "      <td>7.000000e+00</td>\n",
              "      <td>0.000000e+00</td>\n",
              "    </tr>\n",
              "    <tr>\n",
              "      <th>75%</th>\n",
              "      <td>3.000000e+00</td>\n",
              "      <td>7.590000e+01</td>\n",
              "      <td>7.200000e+01</td>\n",
              "      <td>8.400000e+01</td>\n",
              "      <td>3.009000e+01</td>\n",
              "      <td>1.000000e+01</td>\n",
              "      <td>1.150000e+01</td>\n",
              "      <td>0.000000e+00</td>\n",
              "    </tr>\n",
              "    <tr>\n",
              "      <th>max</th>\n",
              "      <td>4.000000e+00</td>\n",
              "      <td>1.706000e+02</td>\n",
              "      <td>1.150000e+02</td>\n",
              "      <td>1.000000e+02</td>\n",
              "      <td>5.774000e+01</td>\n",
              "      <td>1.400000e+02</td>\n",
              "      <td>9.840000e+02</td>\n",
              "      <td>2.500000e+01</td>\n",
              "    </tr>\n",
              "  </tbody>\n",
              "</table>\n",
              "</div>"
            ],
            "text/plain": [
              "           Severity  Temperature(F)  ...  Wind_Speed(mph)  Precipitation(in)\n",
              "count  3.513617e+06    3.447885e+06  ...     3.059008e+06       1.487743e+06\n",
              "mean   2.339929e+00    6.193512e+01  ...     8.219025e+00       1.598256e-02\n",
              "std    5.521935e-01    1.862106e+01  ...     5.262847e+00       1.928262e-01\n",
              "min    1.000000e+00   -8.900000e+01  ...     0.000000e+00       0.000000e+00\n",
              "25%    2.000000e+00    5.000000e+01  ...     5.000000e+00       0.000000e+00\n",
              "50%    2.000000e+00    6.400000e+01  ...     7.000000e+00       0.000000e+00\n",
              "75%    3.000000e+00    7.590000e+01  ...     1.150000e+01       0.000000e+00\n",
              "max    4.000000e+00    1.706000e+02  ...     9.840000e+02       2.500000e+01\n",
              "\n",
              "[8 rows x 8 columns]"
            ]
          },
          "metadata": {
            "tags": []
          },
          "execution_count": 6
        }
      ]
    },
    {
      "cell_type": "code",
      "metadata": {
        "id": "vrRTNAZcQhih",
        "outputId": "9cbcf9f7-203f-435c-b8ca-9c005fc85cc3",
        "colab": {
          "base_uri": "https://localhost:8080/",
          "height": 224
        }
      },
      "source": [
        "# first rows of data\n",
        "# this is how it looks\n",
        "\n",
        "df.head()"
      ],
      "execution_count": 7,
      "outputs": [
        {
          "output_type": "execute_result",
          "data": {
            "text/html": [
              "<div>\n",
              "<style scoped>\n",
              "    .dataframe tbody tr th:only-of-type {\n",
              "        vertical-align: middle;\n",
              "    }\n",
              "\n",
              "    .dataframe tbody tr th {\n",
              "        vertical-align: top;\n",
              "    }\n",
              "\n",
              "    .dataframe thead th {\n",
              "        text-align: right;\n",
              "    }\n",
              "</style>\n",
              "<table border=\"1\" class=\"dataframe\">\n",
              "  <thead>\n",
              "    <tr style=\"text-align: right;\">\n",
              "      <th></th>\n",
              "      <th>Severity</th>\n",
              "      <th>Temperature(F)</th>\n",
              "      <th>Wind_Chill(F)</th>\n",
              "      <th>Humidity(%)</th>\n",
              "      <th>Pressure(in)</th>\n",
              "      <th>Visibility(mi)</th>\n",
              "      <th>Wind_Speed(mph)</th>\n",
              "      <th>Precipitation(in)</th>\n",
              "    </tr>\n",
              "  </thead>\n",
              "  <tbody>\n",
              "    <tr>\n",
              "      <th>0</th>\n",
              "      <td>3</td>\n",
              "      <td>36.9</td>\n",
              "      <td>NaN</td>\n",
              "      <td>91.0</td>\n",
              "      <td>29.68</td>\n",
              "      <td>10.0</td>\n",
              "      <td>NaN</td>\n",
              "      <td>0.02</td>\n",
              "    </tr>\n",
              "    <tr>\n",
              "      <th>1</th>\n",
              "      <td>2</td>\n",
              "      <td>37.9</td>\n",
              "      <td>NaN</td>\n",
              "      <td>100.0</td>\n",
              "      <td>29.65</td>\n",
              "      <td>10.0</td>\n",
              "      <td>NaN</td>\n",
              "      <td>0.00</td>\n",
              "    </tr>\n",
              "    <tr>\n",
              "      <th>2</th>\n",
              "      <td>2</td>\n",
              "      <td>36.0</td>\n",
              "      <td>33.3</td>\n",
              "      <td>100.0</td>\n",
              "      <td>29.67</td>\n",
              "      <td>10.0</td>\n",
              "      <td>3.5</td>\n",
              "      <td>NaN</td>\n",
              "    </tr>\n",
              "    <tr>\n",
              "      <th>3</th>\n",
              "      <td>3</td>\n",
              "      <td>35.1</td>\n",
              "      <td>31.0</td>\n",
              "      <td>96.0</td>\n",
              "      <td>29.64</td>\n",
              "      <td>9.0</td>\n",
              "      <td>4.6</td>\n",
              "      <td>NaN</td>\n",
              "    </tr>\n",
              "    <tr>\n",
              "      <th>4</th>\n",
              "      <td>2</td>\n",
              "      <td>36.0</td>\n",
              "      <td>33.3</td>\n",
              "      <td>89.0</td>\n",
              "      <td>29.65</td>\n",
              "      <td>6.0</td>\n",
              "      <td>3.5</td>\n",
              "      <td>NaN</td>\n",
              "    </tr>\n",
              "  </tbody>\n",
              "</table>\n",
              "</div>"
            ],
            "text/plain": [
              "   Severity  Temperature(F)  ...  Wind_Speed(mph)  Precipitation(in)\n",
              "0         3            36.9  ...              NaN               0.02\n",
              "1         2            37.9  ...              NaN               0.00\n",
              "2         2            36.0  ...              3.5                NaN\n",
              "3         3            35.1  ...              4.6                NaN\n",
              "4         2            36.0  ...              3.5                NaN\n",
              "\n",
              "[5 rows x 8 columns]"
            ]
          },
          "metadata": {
            "tags": []
          },
          "execution_count": 7
        }
      ]
    },
    {
      "cell_type": "markdown",
      "metadata": {
        "id": "Hdc-i0I3ioan"
      },
      "source": [
        "# **Finding empty values in the dataset**\n"
      ]
    },
    {
      "cell_type": "code",
      "metadata": {
        "id": "sM7sPDaau2uF",
        "outputId": "d1cf42f7-7186-491b-b8ec-2cf1b6b9bdcb",
        "colab": {
          "base_uri": "https://localhost:8080/",
          "height": 170
        }
      },
      "source": [
        "# Null values\n",
        "\n",
        "df[['Severity', 'Temperature(F)', 'Wind_Chill(F)', 'Humidity(%)', 'Pressure(in)', 'Visibility(mi)', 'Wind_Speed(mph)','Precipitation(in)']].isnull().sum()"
      ],
      "execution_count": 8,
      "outputs": [
        {
          "output_type": "execute_result",
          "data": {
            "text/plain": [
              "Severity                   0\n",
              "Temperature(F)         65732\n",
              "Wind_Chill(F)        1868249\n",
              "Humidity(%)            69687\n",
              "Pressure(in)           55882\n",
              "Visibility(mi)         75856\n",
              "Wind_Speed(mph)       454609\n",
              "Precipitation(in)    2025874\n",
              "dtype: int64"
            ]
          },
          "metadata": {
            "tags": []
          },
          "execution_count": 8
        }
      ]
    },
    {
      "cell_type": "markdown",
      "metadata": {
        "id": "br4wzByBHi9y"
      },
      "source": [
        "Precipitation and Wind Chill contain 57% and 53% of null values respectively. If we delete the rows containing this data, we will lose a larger part of the dataset. It will be better to drop these attributes."
      ]
    },
    {
      "cell_type": "code",
      "metadata": {
        "id": "AV9yD7Bcnkqg"
      },
      "source": [
        "# dropping columns with a high percentage of NaN (null) values\n",
        "\n",
        "# if column exists, delete them\n",
        "\n",
        "if 'Precipitation(in)' in df:\n",
        "    del df[\"Precipitation(in)\"]\n",
        "if 'Wind_Chill(F)' in df:\n",
        "    del df[\"Wind_Chill(F)\"]\n",
        "\n",
        "# deleting rows with empty values\n",
        "\n",
        "df.dropna(subset = ['Temperature(F)', 'Humidity(%)', 'Pressure(in)', 'Visibility(mi)', 'Wind_Speed(mph)'], inplace=True)"
      ],
      "execution_count": 9,
      "outputs": []
    },
    {
      "cell_type": "code",
      "metadata": {
        "id": "Tgw6jXMhswpO",
        "outputId": "5d4761a6-c1a7-4dcb-f74c-e65b507c3a6f",
        "colab": {
          "base_uri": "https://localhost:8080/",
          "height": 34
        }
      },
      "source": [
        "# shape after deleting rows with unknown, redundant and missing information\n",
        "df.shape"
      ],
      "execution_count": 10,
      "outputs": [
        {
          "output_type": "execute_result",
          "data": {
            "text/plain": [
              "(3033643, 6)"
            ]
          },
          "metadata": {
            "tags": []
          },
          "execution_count": 10
        }
      ]
    },
    {
      "cell_type": "markdown",
      "metadata": {
        "id": "JsO6FJLm1UW-"
      },
      "source": [
        "The original dataset contained 3,513,617 rows. After deleting rows with null values we have 3,033,643. We have lost 13.66% of our data. Since this is not a big loss (in my opinion), we can continue using this dataset"
      ]
    },
    {
      "cell_type": "markdown",
      "metadata": {
        "id": "DBqa9PyX_a3D"
      },
      "source": [
        "We can use the Pandas method corr() to find the feature other than Severity that is most correlated with Severity."
      ]
    },
    {
      "cell_type": "code",
      "metadata": {
        "id": "1oQiedbJ_PfM",
        "outputId": "52515a84-f82c-478f-f4ea-535779a0274a",
        "colab": {
          "base_uri": "https://localhost:8080/",
          "height": 136
        }
      },
      "source": [
        "df.corr()['Severity'].sort_values()\n"
      ],
      "execution_count": 11,
      "outputs": [
        {
          "output_type": "execute_result",
          "data": {
            "text/plain": [
              "Temperature(F)    -0.028153\n",
              "Visibility(mi)    -0.006832\n",
              "Humidity(%)        0.034319\n",
              "Wind_Speed(mph)    0.035112\n",
              "Pressure(in)       0.037423\n",
              "Severity           1.000000\n",
              "Name: Severity, dtype: float64"
            ]
          },
          "metadata": {
            "tags": []
          },
          "execution_count": 11
        }
      ]
    },
    {
      "cell_type": "code",
      "metadata": {
        "id": "ldvgtYrCK4Vg",
        "outputId": "dfb8cd68-bd0b-4fce-95f7-ae8fbc2d0b39",
        "colab": {
          "base_uri": "https://localhost:8080/",
          "height": 584
        }
      },
      "source": [
        "import seaborn as sns\n",
        "\n",
        "corr = df.corr()\n",
        "\n",
        "# Generate a mask for the upper triangle\n",
        "mask = np.triu(np.ones_like(corr, dtype=bool))\n",
        "\n",
        "# Set up the matplotlib figure\n",
        "f, ax = plt.subplots(figsize=(11, 9))\n",
        "\n",
        "# Generate a custom diverging colormap\n",
        "cmap = sns.diverging_palette(230, 20, as_cmap=True)\n",
        "\n",
        "# Draw the heatmap with the mask and correct aspect ratio\n",
        "sns.heatmap(corr, mask=mask, cmap=cmap, vmax=.3, center=0,\n",
        "            square=True, linewidths=.5, cbar_kws={\"shrink\": .5})\n",
        "\n"
      ],
      "execution_count": 12,
      "outputs": [
        {
          "output_type": "execute_result",
          "data": {
            "text/plain": [
              "<matplotlib.axes._subplots.AxesSubplot at 0x7f19adba1160>"
            ]
          },
          "metadata": {
            "tags": []
          },
          "execution_count": 12
        },
        {
          "output_type": "display_data",
          "data": {
            "image/png": "[encoded data removed]",
            "text/plain": [
              "<Figure size 792x648 with 2 Axes>"
            ]
          },
          "metadata": {
            "tags": [],
            "needs_background": "light"
          }
        }
      ]
    },
    {
      "cell_type": "markdown",
      "metadata": {
        "id": "NkF5fgYjLVtm"
      },
      "source": [
        "From a preliminary analysis we can conclude that Humidity and Temperature are highly related, and pressure is Pressure is the feature most related to severity. But it is too early to draw conclusions."
      ]
    },
    {
      "cell_type": "markdown",
      "metadata": {
        "id": "v1eJM2eS8lpv"
      },
      "source": [
        "### **Methodology**\n",
        "\n",
        "We are ready to use our dataset and train our models. We will use **K-Nearest Neighbor**, **Decision Tree** and **Random Forest**."
      ]
    },
    {
      "cell_type": "markdown",
      "metadata": {
        "id": "ucI4agWNBn1S"
      },
      "source": [
        "Define X and Y:\n",
        "\n"
      ]
    },
    {
      "cell_type": "code",
      "metadata": {
        "id": "DnwYsQ9gCG4r"
      },
      "source": [
        "# In order to reduce training time (more than three hours for the whole set, I will select a random subset of it)\n",
        "\n",
        "df = df[['Temperature(F)', 'Humidity(%)', 'Pressure(in)', 'Visibility(mi)', 'Wind_Speed(mph)', 'Severity']]\n",
        "df_random_subset = df.sample(frac=0.05)\n",
        "X = df_random_subset[['Temperature(F)', 'Humidity(%)', 'Pressure(in)', 'Visibility(mi)', 'Wind_Speed(mph)']]\n",
        "y = df_random_subset['Severity'].values"
      ],
      "execution_count": 13,
      "outputs": []
    },
    {
      "cell_type": "markdown",
      "metadata": {
        "id": "oWK05EFt60Tn"
      },
      "source": [
        "We will use 20% of our data for testing and 80% for training."
      ]
    },
    {
      "cell_type": "code",
      "metadata": {
        "id": "eIfWDAzkBfhf",
        "outputId": "c973cae1-760a-4d49-e1d1-eef79e08dc52",
        "colab": {
          "base_uri": "https://localhost:8080/",
          "height": 51
        }
      },
      "source": [
        "from sklearn.model_selection import train_test_split\n",
        "X_train, X_test, y_train, y_test = train_test_split( X, y, test_size=0.2, random_state=4)\n",
        "print ('Train set:', X_train.shape,  y_train.shape)\n",
        "print ('Test set:', X_test.shape,  y_test.shape)"
      ],
      "execution_count": 14,
      "outputs": [
        {
          "output_type": "stream",
          "text": [
            "Train set: (121345, 5) (121345,)\n",
            "Test set: (30337, 5) (30337,)\n"
          ],
          "name": "stdout"
        }
      ]
    },
    {
      "cell_type": "markdown",
      "metadata": {
        "id": "SNnuypkO90BC"
      },
      "source": [
        "## K Nearest Neighbor(KNN)"
      ]
    },
    {
      "cell_type": "code",
      "metadata": {
        "id": "kGOKi55uyxJS"
      },
      "source": [
        "from sklearn.neighbors import KNeighborsClassifier"
      ],
      "execution_count": 15,
      "outputs": []
    },
    {
      "cell_type": "code",
      "metadata": {
        "id": "EUfUWXYGy2jv",
        "outputId": "c526dab1-e787-4b22-bcfd-025ba4082159",
        "colab": {
          "base_uri": "https://localhost:8080/",
          "height": 314
        }
      },
      "source": [
        "# find the best K\n",
        "\n",
        "from sklearn import metrics\n",
        "\n",
        "Ks = 50\n",
        "mean_acc = np.zeros((Ks-1))\n",
        "std_acc = np.zeros((Ks-1))\n",
        "ConfustionMx = [];\n",
        "for n in range(1,Ks):\n",
        "    \n",
        "    #Train Model and Predict  \n",
        "    neigh = KNeighborsClassifier(n_neighbors = n).fit(X_train, y_train)\n",
        "    Kyhat=neigh.predict(X_test)\n",
        "    mean_acc[n-1] = metrics.accuracy_score(y_test, Kyhat)\n",
        "\n",
        "    std_acc[n-1]=np.std(Kyhat==y_test)/np.sqrt(Kyhat.shape[0])\n",
        "\n",
        "plt.plot(range(1,Ks),mean_acc,'g')\n",
        "plt.fill_between(range(1,Ks),mean_acc - 1 * std_acc,mean_acc + 1 * std_acc, alpha=0.10)\n",
        "plt.legend(('Accuracy ', '+/- 3xstd'))\n",
        "plt.ylabel('Accuracy ')\n",
        "plt.xlabel('Number of Nabors (K)')\n",
        "plt.tight_layout()\n",
        "plt.show()\n",
        "\n",
        "knnn = mean_acc.argmax()+1\n",
        "bknnn = mean_acc.max()\n",
        "\n",
        "print( \"The best accuracy was with\", bknnn, \"with k=\", knnn) \n",
        "neigh = KNeighborsClassifier(n_neighbors = knnn).fit(X_train, y_train)\n"
      ],
      "execution_count": 22,
      "outputs": [
        {
          "output_type": "display_data",
          "data": {
            "image/png": "[encoded data removed]",
            "text/plain": [
              "<Figure size 432x288 with 1 Axes>"
            ]
          },
          "metadata": {
            "tags": [],
            "needs_background": "light"
          }
        },
        {
          "output_type": "stream",
          "text": [
            "The best accuracy was with 0.678049906055312 with k= 49\n"
          ],
          "name": "stdout"
        }
      ]
    },
    {
      "cell_type": "markdown",
      "metadata": {
        "id": "JbwZvsso6fYi"
      },
      "source": [
        "## Decision Tree\n"
      ]
    },
    {
      "cell_type": "code",
      "metadata": {
        "id": "Zmc1T3Am6eGE",
        "outputId": "22256616-804c-4dae-a17a-3f23b9624fe6",
        "colab": {
          "base_uri": "https://localhost:8080/",
          "height": 314
        }
      },
      "source": [
        "# find the best max_depth\n",
        "\n",
        "from sklearn.tree import DecisionTreeClassifier\n",
        "\n",
        "depth = 25\n",
        "mean_acc = np.zeros((depth-1))\n",
        "std_acc = np.zeros((depth-1))\n",
        "ConfustionMx = [];\n",
        "for n in range(1,depth):\n",
        "    \n",
        "    #Train Model and Predict \n",
        "    colDataTree = DecisionTreeClassifier(criterion=\"entropy\", max_depth = n)\n",
        "    colDataTree.fit(X_train,y_train)\n",
        "    DTyhat = colDataTree.predict(X_test)\n",
        "    mean_acc[n-1] = metrics.accuracy_score(y_test, DTyhat)\n",
        "    std_acc[n-1]=np.std(DTyhat==y_test)/np.sqrt(DTyhat.shape[0])\n",
        "\n",
        "plt.plot(range(1,depth),mean_acc,'g')\n",
        "plt.fill_between(range(1,depth),mean_acc - 1 * std_acc,mean_acc + 1 * std_acc, alpha=0.10)\n",
        "plt.legend(('Accuracy ', '+/- 3xstd'))\n",
        "plt.ylabel('Accuracy ')\n",
        "plt.xlabel('Number of Nabors (K)')\n",
        "plt.tight_layout()\n",
        "plt.show()\n",
        "\n",
        "dtn = mean_acc.argmax()+1\n",
        "bdtn = mean_acc.max()\n",
        "\n",
        "print( \"The best accuracy was with\", bdtn, \"with max_depth=\", dtn) \n",
        "neigh = KNeighborsClassifier(n_neighbors = dtn).fit(X_train, y_train)\n"
      ],
      "execution_count": 23,
      "outputs": [
        {
          "output_type": "display_data",
          "data": {
            "image/png": "[encoded data removed]",
            "text/plain": [
              "<Figure size 432x288 with 1 Axes>"
            ]
          },
          "metadata": {
            "tags": [],
            "needs_background": "light"
          }
        },
        {
          "output_type": "stream",
          "text": [
            "The best accuracy was with 0.679335464943798 with max_depth= 4\n"
          ],
          "name": "stdout"
        }
      ]
    },
    {
      "cell_type": "markdown",
      "metadata": {
        "id": "g7GFkr5Qam7u"
      },
      "source": [
        "## Random Forest"
      ]
    },
    {
      "cell_type": "code",
      "metadata": {
        "id": "IuipuS8Yarn1",
        "outputId": "053f6059-93e7-459a-ac6d-8e07cdc6aebb",
        "colab": {
          "base_uri": "https://localhost:8080/",
          "height": 314
        }
      },
      "source": [
        "# Find best number of estimators\n",
        "\n",
        "from sklearn.ensemble import RandomForestClassifier\n",
        "rf = RandomForestClassifier()\n",
        "\n",
        "estimators = 55\n",
        "mean_acc = np.zeros((estimators-1))\n",
        "std_acc = np.zeros((estimators-1))\n",
        "for n in range(1, estimators):\n",
        "  rf = RandomForestClassifier(n_estimators=n, n_jobs=-1)\n",
        "  rf.fit(X_train,y_train)\n",
        "  RFyhat = rf.predict(X_test)\n",
        "  mean_acc[n-1] = metrics.accuracy_score(y_test, RFyhat)\n",
        "  std_acc[n-1]=np.std(RFyhat==y_test)/np.sqrt(RFyhat.shape[0])\n",
        "\n",
        "plt.plot(range(1,estimators),mean_acc,'g')\n",
        "plt.fill_between(range(1,estimators),mean_acc - 1 * std_acc,mean_acc + 1 * std_acc, alpha=0.10)\n",
        "plt.legend(('Accuracy ', '+/- 3xstd'))\n",
        "plt.ylabel('Accuracy ')\n",
        "plt.xlabel('Number of estimators')\n",
        "plt.tight_layout()\n",
        "plt.show()\n",
        "\n",
        "rfn = mean_acc.argmax()+1\n",
        "brfn = mean_acc.max()\n",
        "\n",
        "print( \"The best accuracy was with\", mean_acc.max(), \"with n_estimators=\", rfn) \n",
        "neigh = KNeighborsClassifier(n_neighbors = rfn).fit(X_train, y_train)\n",
        "   "
      ],
      "execution_count": 24,
      "outputs": [
        {
          "output_type": "display_data",
          "data": {
            "image/png": "[encoded data removed]",
            "text/plain": [
              "<Figure size 432x288 with 1 Axes>"
            ]
          },
          "metadata": {
            "tags": [],
            "needs_background": "light"
          }
        },
        {
          "output_type": "stream",
          "text": [
            "The best accuracy was with 0.6436364835019943 with n_estimators= 48\n"
          ],
          "name": "stdout"
        }
      ]
    },
    {
      "cell_type": "markdown",
      "metadata": {
        "id": "-Rb5UqscC-U1"
      },
      "source": [
        "## Results and Evaluation\n",
        "\n",
        "Checking model accuracy"
      ]
    },
    {
      "cell_type": "code",
      "metadata": {
        "id": "pNwtlr_kDEbd"
      },
      "source": [
        "from sklearn.metrics import jaccard_similarity_score\n",
        "from sklearn.metrics import f1_score"
      ],
      "execution_count": 19,
      "outputs": []
    },
    {
      "cell_type": "code",
      "metadata": {
        "id": "hKSGjXcSdDUu",
        "outputId": "9bf62c21-eb93-4f14-e4f2-ed01f9981b85",
        "colab": {
          "base_uri": "https://localhost:8080/",
          "height": 264
        }
      },
      "source": [
        "# Create evaluation results dataframe\n",
        "\n",
        "dfAccuracy = pd.DataFrame(\n",
        "    columns = ['Algorithm', 'Jaccard', 'F1-score']\n",
        ")\n",
        "\n",
        "# save data for knn on a new dataframe\n",
        "neigh = KNeighborsClassifier(n_neighbors = knnn).fit(X_train, y_train)\n",
        "yhat=neigh.predict(X_test)\n",
        "new_row = {'Algorithm': 'KNN',\n",
        "          'Jaccard':jaccard_similarity_score(y_test, yhat), \n",
        "          'F1-score':f1_score(y_test, yhat, average='weighted'),\n",
        "          'Precision': bknnn\n",
        "           }\n",
        "\n",
        "dfAccuracy = dfAccuracy.append(new_row, ignore_index=True)\n",
        "\n",
        "# save data for decision tree\n",
        "decision_tree = DecisionTreeClassifier(criterion=\"entropy\", max_depth = dtn).fit(X_train,y_train)\n",
        "yhat = decision_tree.predict(X_test)\n",
        "new_row = {'Algorithm': 'Decision Tree',\n",
        "          'Jaccard':jaccard_similarity_score(y_test, yhat), \n",
        "          'F1-score':f1_score(y_test, yhat, average='weighted'),\n",
        "          'Precision': bdtn\n",
        "           }\n",
        "\n",
        "dfAccuracy = dfAccuracy.append(new_row, ignore_index=True)\n",
        "\n",
        "# save data for Random Forest\n",
        "rf = RandomForestClassifier(n_estimators=rfn, n_jobs=-1).fit(X_train,y_train)\n",
        "yhat = rf.predict(X_test)\n",
        "new_row = {'Algorithm': 'Random Forest',\n",
        "          'Jaccard':jaccard_similarity_score(y_test, yhat), \n",
        "          'F1-score':f1_score(y_test, yhat, average='weighted'),\n",
        "          'Precision': brfn\n",
        "           }\n",
        "\n",
        "dfAccuracy = dfAccuracy.append(new_row, ignore_index=True)\n",
        "dfAccuracy\n"
      ],
      "execution_count": 25,
      "outputs": [
        {
          "output_type": "stream",
          "text": [
            "/usr/local/lib/python3.6/dist-packages/sklearn/metrics/_classification.py:664: FutureWarning: jaccard_similarity_score has been deprecated and replaced with jaccard_score. It will be removed in version 0.23. This implementation has surprising behavior for binary and multiclass classification tasks.\n",
            "  FutureWarning)\n",
            "/usr/local/lib/python3.6/dist-packages/sklearn/metrics/_classification.py:664: FutureWarning: jaccard_similarity_score has been deprecated and replaced with jaccard_score. It will be removed in version 0.23. This implementation has surprising behavior for binary and multiclass classification tasks.\n",
            "  FutureWarning)\n",
            "/usr/local/lib/python3.6/dist-packages/sklearn/metrics/_classification.py:664: FutureWarning: jaccard_similarity_score has been deprecated and replaced with jaccard_score. It will be removed in version 0.23. This implementation has surprising behavior for binary and multiclass classification tasks.\n",
            "  FutureWarning)\n"
          ],
          "name": "stderr"
        },
        {
          "output_type": "execute_result",
          "data": {
            "text/html": [
              "<div>\n",
              "<style scoped>\n",
              "    .dataframe tbody tr th:only-of-type {\n",
              "        vertical-align: middle;\n",
              "    }\n",
              "\n",
              "    .dataframe tbody tr th {\n",
              "        vertical-align: top;\n",
              "    }\n",
              "\n",
              "    .dataframe thead th {\n",
              "        text-align: right;\n",
              "    }\n",
              "</style>\n",
              "<table border=\"1\" class=\"dataframe\">\n",
              "  <thead>\n",
              "    <tr style=\"text-align: right;\">\n",
              "      <th></th>\n",
              "      <th>Algorithm</th>\n",
              "      <th>Jaccard</th>\n",
              "      <th>F1-score</th>\n",
              "      <th>Precision</th>\n",
              "    </tr>\n",
              "  </thead>\n",
              "  <tbody>\n",
              "    <tr>\n",
              "      <th>0</th>\n",
              "      <td>KNN</td>\n",
              "      <td>0.678050</td>\n",
              "      <td>0.551332</td>\n",
              "      <td>0.678050</td>\n",
              "    </tr>\n",
              "    <tr>\n",
              "      <th>1</th>\n",
              "      <td>Decision Tree</td>\n",
              "      <td>0.679335</td>\n",
              "      <td>0.550211</td>\n",
              "      <td>0.679335</td>\n",
              "    </tr>\n",
              "    <tr>\n",
              "      <th>2</th>\n",
              "      <td>Random Forest</td>\n",
              "      <td>0.641098</td>\n",
              "      <td>0.586707</td>\n",
              "      <td>0.643636</td>\n",
              "    </tr>\n",
              "  </tbody>\n",
              "</table>\n",
              "</div>"
            ],
            "text/plain": [
              "       Algorithm   Jaccard  F1-score  Precision\n",
              "0            KNN  0.678050  0.551332   0.678050\n",
              "1  Decision Tree  0.679335  0.550211   0.679335\n",
              "2  Random Forest  0.641098  0.586707   0.643636"
            ]
          },
          "metadata": {
            "tags": []
          },
          "execution_count": 25
        }
      ]
    },
    {
      "cell_type": "markdown",
      "metadata": {
        "id": "O28BWqi0I_k1"
      },
      "source": [
        "## **Discussion and conclusion**"
      ]
    },
    {
      "cell_type": "markdown",
      "metadata": {
        "id": "cWBMqCu1JPu-"
      },
      "source": [
        "After presenting the problem, we found a training dataset and performed exploratory analysis to understand it. \n",
        "\n",
        "We developed models using K-Nearest Neighbor, Decision Tree and Random Forest"
      ]
    },
    {
      "cell_type": "markdown",
      "metadata": {
        "id": "nzz063qSzG8t"
      },
      "source": [
        "After presenting the problem, we found a training dataset \n",
        "and performed exploratory analysis to understand it. \n",
        "\n",
        "We developed models using K-Nearest Neighbor, Decision Tree and Random Forest and found the best training parameters as well.\n",
        "\n",
        "Decision Tree model seems to perform better and to have better evaluation than the others. \n",
        "\n",
        "Weather conditions can help predict severity of an accident.\n",
        "\n"
      ]
    }
  ]
}