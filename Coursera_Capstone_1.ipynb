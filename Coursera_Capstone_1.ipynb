{
  "nbformat": 4,
  "nbformat_minor": 0,
  "metadata": {
    "colab": {
      "name": "Coursera_Capstone_1.ipynb",
      "provenance": []
    },
    "kernelspec": {
      "name": "python3",
      "display_name": "Python 3"
    }
  },
  "cells": [
    {
      "cell_type": "code",
      "metadata": {
        "id": "rOltrQLn5rTv"
      },
      "source": [
        ""
      ],
      "execution_count": null,
      "outputs": []
    },
    {
      "cell_type": "markdown",
      "metadata": {
        "id": "_BK4CRF75t6-"
      },
      "source": [
        "This notebook will contain the capstone project for the  IBM Data Science Professional Certificate\n",
        "\n",
        "- Joaquin Jimenez-Sauma \n",
        "\n",
        "\n",
        "[jjsauma.com](http://jjsauma.com)"
      ]
    },
    {
      "cell_type": "code",
      "metadata": {
        "id": "uO5NtPzt6IWk"
      },
      "source": [
        "import pandas as pd\n",
        "import numpy as np"
      ],
      "execution_count": 1,
      "outputs": []
    },
    {
      "cell_type": "code",
      "metadata": {
        "id": "8cxWZ1CI6RXO",
        "outputId": "d0b6d635-ae26-4ced-99a5-7aec7840f27c",
        "colab": {
          "base_uri": "https://localhost:8080/",
          "height": 34
        }
      },
      "source": [
        "print(\"Hello Capstone Project Course!\")"
      ],
      "execution_count": 2,
      "outputs": [
        {
          "output_type": "stream",
          "text": [
            "Hello Capstone Project Course!\n"
          ],
          "name": "stdout"
        }
      ]
    }
  ]
}